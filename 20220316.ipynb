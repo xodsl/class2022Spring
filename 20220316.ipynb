{
  "nbformat": 4,
  "nbformat_minor": 0,
  "metadata": {
    "colab": {
      "name": "20220316.ipynb",
      "provenance": [],
      "collapsed_sections": [],
      "authorship_tag": "ABX9TyNw3b3z8FBEr3osRB20/c0i",
      "include_colab_link": true
    },
    "kernelspec": {
      "name": "python3",
      "display_name": "Python 3"
    },
    "language_info": {
      "name": "python"
    }
  },
  "cells": [
    {
      "cell_type": "markdown",
      "metadata": {
        "id": "view-in-github",
        "colab_type": "text"
      },
      "source": [
        "<a href=\"https://colab.research.google.com/github/xodsl/class2022Spring/blob/main/20220316.ipynb\" target=\"_parent\"><img src=\"https://colab.research.google.com/assets/colab-badge.svg\" alt=\"Open In Colab\"/></a>"
      ]
    },
    {
      "cell_type": "code",
      "execution_count": null,
      "metadata": {
        "colab": {
          "base_uri": "https://localhost:8080/"
        },
        "id": "LKcirEuRsG12",
        "outputId": "765fbced-e7e7-496b-b4ea-5ba96766ecbc"
      },
      "outputs": [
        {
          "output_type": "stream",
          "name": "stdout",
          "text": [
            "<class 'int'>\n"
          ]
        }
      ],
      "source": [
        "a = 1; print(type(a))"
      ]
    },
    {
      "cell_type": "code",
      "source": [
        "print(a)"
      ],
      "metadata": {
        "colab": {
          "base_uri": "https://localhost:8080/"
        },
        "id": "O6YrH6WGwtav",
        "outputId": "30214ee7-e439-4f5b-c4e7-1a17c2be1407"
      },
      "execution_count": null,
      "outputs": [
        {
          "output_type": "stream",
          "name": "stdout",
          "text": [
            "1\n"
          ]
        }
      ]
    },
    {
      "cell_type": "markdown",
      "source": [
        "print(변수) : 변수 안에 있는 내용이 나옴"
      ],
      "metadata": {
        "id": "4qpq2CDkw9PA"
      }
    },
    {
      "cell_type": "code",
      "source": [
        "a = 1.1; print(type(a))"
      ],
      "metadata": {
        "colab": {
          "base_uri": "https://localhost:8080/"
        },
        "id": "Xx9kz2gsxXZ-",
        "outputId": "e053245a-4145-476b-ab4c-dcc21235a374"
      },
      "execution_count": null,
      "outputs": [
        {
          "output_type": "stream",
          "name": "stdout",
          "text": [
            "<class 'float'>\n"
          ]
        }
      ]
    },
    {
      "cell_type": "markdown",
      "source": [
        "float : 실수 (소수점 o) <br>\n",
        "1과 1.0은 다름"
      ],
      "metadata": {
        "id": "jXv5VYILxj1u"
      }
    },
    {
      "cell_type": "code",
      "source": [
        "a = '123' ; print(type(a)); print(a[1])"
      ],
      "metadata": {
        "colab": {
          "base_uri": "https://localhost:8080/"
        },
        "id": "AzCxTqImymQu",
        "outputId": "111c1d1a-4358-4bfd-8ecf-fd6b4b1f4b90"
      },
      "execution_count": null,
      "outputs": [
        {
          "output_type": "stream",
          "name": "stdout",
          "text": [
            "<class 'str'>\n",
            "2\n"
          ]
        }
      ]
    },
    {
      "cell_type": "markdown",
      "source": [
        "string은 ''(작은따옴표), \"\"(큰따옴표) 사용"
      ],
      "metadata": {
        "id": "ROvsplsCy2-b"
      }
    },
    {
      "cell_type": "code",
      "source": [
        "a = 'hello'; print(type(a)); print(a[1])"
      ],
      "metadata": {
        "colab": {
          "base_uri": "https://localhost:8080/"
        },
        "id": "EY48CTTey8LM",
        "outputId": "0e93ce7a-5a5e-4397-bbea-0abc162337c4"
      },
      "execution_count": null,
      "outputs": [
        {
          "output_type": "stream",
          "name": "stdout",
          "text": [
            "<class 'str'>\n",
            "e\n"
          ]
        }
      ]
    },
    {
      "cell_type": "code",
      "source": [
        "a = [1, 2, 3, 4]; print(type(a)); print(a[0])"
      ],
      "metadata": {
        "colab": {
          "base_uri": "https://localhost:8080/"
        },
        "id": "K4g_ZULDzGvB",
        "outputId": "9b4d6817-00ac-48a9-ce0d-77cfbabf9759"
      },
      "execution_count": null,
      "outputs": [
        {
          "output_type": "stream",
          "name": "stdout",
          "text": [
            "<class 'list'>\n",
            "1\n"
          ]
        }
      ]
    },
    {
      "cell_type": "markdown",
      "source": [
        "list는 대괄호, comma 사용"
      ],
      "metadata": {
        "id": "iaaOGAtFzZDo"
      }
    },
    {
      "cell_type": "code",
      "source": [
        "a[0]"
      ],
      "metadata": {
        "colab": {
          "base_uri": "https://localhost:8080/"
        },
        "id": "swZMkO6jzkrE",
        "outputId": "ca58d9a3-f6a2-4448-a103-f06a43144af7"
      },
      "execution_count": null,
      "outputs": [
        {
          "output_type": "execute_result",
          "data": {
            "text/plain": [
              "1"
            ]
          },
          "metadata": {},
          "execution_count": 7
        }
      ]
    },
    {
      "cell_type": "markdown",
      "source": [
        "'a의 0번째'라는 뜻 <br>\n",
        "마지막 줄은 print 안 해도 됨"
      ],
      "metadata": {
        "id": "WtfdS0ycz62b"
      }
    },
    {
      "cell_type": "code",
      "source": [
        "a[:]"
      ],
      "metadata": {
        "colab": {
          "base_uri": "https://localhost:8080/"
        },
        "id": "LbB0K6FN0IPt",
        "outputId": "3869b0a6-b691-414f-c033-e7ee8ee868ab"
      },
      "execution_count": null,
      "outputs": [
        {
          "output_type": "execute_result",
          "data": {
            "text/plain": [
              "[1, 2, 3, 4]"
            ]
          },
          "metadata": {},
          "execution_count": 8
        }
      ]
    },
    {
      "cell_type": "markdown",
      "source": [
        "'전부 다'라는 뜻"
      ],
      "metadata": {
        "id": "ZNNK-18W0LDp"
      }
    },
    {
      "cell_type": "code",
      "source": [
        "a[1:3]"
      ],
      "metadata": {
        "colab": {
          "base_uri": "https://localhost:8080/"
        },
        "id": "15vj_Uw90KT4",
        "outputId": "6a6973b8-8f9b-42bc-ca8c-3f31b9253da0"
      },
      "execution_count": null,
      "outputs": [
        {
          "output_type": "execute_result",
          "data": {
            "text/plain": [
              "[2, 3]"
            ]
          },
          "metadata": {},
          "execution_count": 9
        }
      ]
    },
    {
      "cell_type": "markdown",
      "source": [
        "뒤에 있는 것은 포함하지 않음, 앞에 있는 것은 포함"
      ],
      "metadata": {
        "id": "SR_WJtdb0fFD"
      }
    },
    {
      "cell_type": "code",
      "source": [
        "a[1:4]"
      ],
      "metadata": {
        "colab": {
          "base_uri": "https://localhost:8080/"
        },
        "id": "CSSgn-rQ0jl6",
        "outputId": "630c435f-816f-4d6c-e757-e971c0678fdc"
      },
      "execution_count": null,
      "outputs": [
        {
          "output_type": "execute_result",
          "data": {
            "text/plain": [
              "[2, 3, 4]"
            ]
          },
          "metadata": {},
          "execution_count": 10
        }
      ]
    },
    {
      "cell_type": "markdown",
      "source": [
        "마지막에 있는 것은 -1이라고 할 수 있음"
      ],
      "metadata": {
        "id": "qQbKbAQB0x4w"
      }
    },
    {
      "cell_type": "code",
      "source": [
        "a"
      ],
      "metadata": {
        "colab": {
          "base_uri": "https://localhost:8080/"
        },
        "id": "1jiHzzB80xYC",
        "outputId": "01ccb9d7-818d-4ad1-9653-ca1d65be39e2"
      },
      "execution_count": null,
      "outputs": [
        {
          "output_type": "execute_result",
          "data": {
            "text/plain": [
              "[1, 2, 3, 4]"
            ]
          },
          "metadata": {},
          "execution_count": 11
        }
      ]
    },
    {
      "cell_type": "markdown",
      "source": [
        "'처음부터 끝까지'"
      ],
      "metadata": {
        "id": "56U_zV9l05ZM"
      }
    },
    {
      "cell_type": "code",
      "source": [
        "a = [1, 'a', [3, '4']]"
      ],
      "metadata": {
        "id": "2XZ2xt_-0pFG"
      },
      "execution_count": null,
      "outputs": []
    },
    {
      "cell_type": "code",
      "source": [
        "a[2][1]"
      ],
      "metadata": {
        "colab": {
          "base_uri": "https://localhost:8080/",
          "height": 35
        },
        "id": "KXwz8LIn1Utc",
        "outputId": "4a9a677b-ef0a-4351-ebde-1e4512480b94"
      },
      "execution_count": null,
      "outputs": [
        {
          "output_type": "execute_result",
          "data": {
            "text/plain": [
              "'4'"
            ],
            "application/vnd.google.colaboratory.intrinsic+json": {
              "type": "string"
            }
          },
          "metadata": {},
          "execution_count": 14
        }
      ]
    },
    {
      "cell_type": "code",
      "source": [
        "a[2][0]"
      ],
      "metadata": {
        "colab": {
          "base_uri": "https://localhost:8080/"
        },
        "id": "QV025Vir1Zc4",
        "outputId": "2b117bba-61bc-431f-b945-ab7a01d99aa2"
      },
      "execution_count": null,
      "outputs": [
        {
          "output_type": "execute_result",
          "data": {
            "text/plain": [
              "3"
            ]
          },
          "metadata": {},
          "execution_count": 15
        }
      ]
    },
    {
      "cell_type": "code",
      "source": [
        "a = 'abcdef123'"
      ],
      "metadata": {
        "id": "wlfbj-cE1pd0"
      },
      "execution_count": null,
      "outputs": []
    },
    {
      "cell_type": "code",
      "source": [
        "type(a)"
      ],
      "metadata": {
        "colab": {
          "base_uri": "https://localhost:8080/"
        },
        "id": "doXEnspY1tPS",
        "outputId": "05206ac2-5797-49b1-ea1b-b8f4fe16b963"
      },
      "execution_count": null,
      "outputs": [
        {
          "output_type": "execute_result",
          "data": {
            "text/plain": [
              "str"
            ]
          },
          "metadata": {},
          "execution_count": 17
        }
      ]
    },
    {
      "cell_type": "code",
      "source": [
        "a[:3]"
      ],
      "metadata": {
        "colab": {
          "base_uri": "https://localhost:8080/",
          "height": 35
        },
        "id": "9OxaO28X1z0m",
        "outputId": "36f6502e-db6c-4cd9-c13e-181cf9780b52"
      },
      "execution_count": null,
      "outputs": [
        {
          "output_type": "execute_result",
          "data": {
            "text/plain": [
              "'abc'"
            ],
            "application/vnd.google.colaboratory.intrinsic+json": {
              "type": "string"
            }
          },
          "metadata": {},
          "execution_count": 18
        }
      ]
    },
    {
      "cell_type": "code",
      "source": [
        "a[3:-1]"
      ],
      "metadata": {
        "colab": {
          "base_uri": "https://localhost:8080/",
          "height": 35
        },
        "id": "F1P_r-wW122V",
        "outputId": "c667f499-84fa-4277-d233-d31901e28cf8"
      },
      "execution_count": null,
      "outputs": [
        {
          "output_type": "execute_result",
          "data": {
            "text/plain": [
              "'def12'"
            ],
            "application/vnd.google.colaboratory.intrinsic+json": {
              "type": "string"
            }
          },
          "metadata": {},
          "execution_count": 19
        }
      ]
    },
    {
      "cell_type": "markdown",
      "source": [
        "list와 string은 indexing 방법 동일"
      ],
      "metadata": {
        "id": "bBR56prn17dZ"
      }
    },
    {
      "cell_type": "code",
      "source": [
        "a = {\"a\": \"apple\", \"b\": \"orange\", \"c\": 2014}"
      ],
      "metadata": {
        "id": "wIp8qTBj2h4n"
      },
      "execution_count": null,
      "outputs": []
    },
    {
      "cell_type": "markdown",
      "source": [
        "총 3개의 item으로 구성됨 <br>\n",
        "dict는 쌍으로 되어 있음 (key와 value)"
      ],
      "metadata": {
        "id": "ddGjmrgv22Ru"
      }
    },
    {
      "cell_type": "code",
      "source": [
        "a[\"a\"]"
      ],
      "metadata": {
        "colab": {
          "base_uri": "https://localhost:8080/",
          "height": 35
        },
        "id": "x66cwJeY3HMV",
        "outputId": "9a543a7a-f6a1-45ca-97c5-e466860bae4e"
      },
      "execution_count": null,
      "outputs": [
        {
          "output_type": "execute_result",
          "data": {
            "text/plain": [
              "'apple'"
            ],
            "application/vnd.google.colaboratory.intrinsic+json": {
              "type": "string"
            }
          },
          "metadata": {},
          "execution_count": 22
        }
      ]
    },
    {
      "cell_type": "markdown",
      "source": [
        "작은따옴표, 큰따옴표 구분하지 않음"
      ],
      "metadata": {
        "id": "DoBx93H73cqg"
      }
    },
    {
      "cell_type": "code",
      "source": [
        "s = 'abcdef'\n",
        "print(s[0], s[5], s[-1], s[-6])\n",
        "print(s[1:3], s[1:], s[:3], s[:])"
      ],
      "metadata": {
        "colab": {
          "base_uri": "https://localhost:8080/"
        },
        "id": "oUmoP3_J33nT",
        "outputId": "c3a4da5c-1431-4ec5-c692-d34d7e3c46dd"
      },
      "execution_count": null,
      "outputs": [
        {
          "output_type": "stream",
          "name": "stdout",
          "text": [
            "a f f a\n",
            "bc bcdef abc abcdef\n"
          ]
        }
      ]
    },
    {
      "cell_type": "code",
      "source": [
        "n = [100, 200, 300]\n",
        "print(n[0], n[2], n[-1], n[-3])\n",
        "print(n[1:2], n[1:], n[:2], n[:])"
      ],
      "metadata": {
        "colab": {
          "base_uri": "https://localhost:8080/"
        },
        "id": "ZjFA2KhS4a9s",
        "outputId": "0abfe1f5-8507-4e34-ad31-e0071a4ac90a"
      },
      "execution_count": null,
      "outputs": [
        {
          "output_type": "stream",
          "name": "stdout",
          "text": [
            "100 300 300 100\n",
            "[200] [200, 300] [100, 200] [100, 200, 300]\n"
          ]
        }
      ]
    },
    {
      "cell_type": "markdown",
      "source": [
        "string과 list는 유사함"
      ],
      "metadata": {
        "id": "K725nbWr4cVN"
      }
    },
    {
      "cell_type": "code",
      "source": [
        "len(s)"
      ],
      "metadata": {
        "colab": {
          "base_uri": "https://localhost:8080/"
        },
        "id": "EGCdNmzJ5_C2",
        "outputId": "26d74fc0-4d04-41d7-9a34-90c20adf5992"
      },
      "execution_count": null,
      "outputs": [
        {
          "output_type": "execute_result",
          "data": {
            "text/plain": [
              "6"
            ]
          },
          "metadata": {},
          "execution_count": 25
        }
      ]
    },
    {
      "cell_type": "markdown",
      "source": [
        "len 함수는 length(길이) 의미함\n"
      ],
      "metadata": {
        "id": "8ZBfjj2U6ERZ"
      }
    },
    {
      "cell_type": "code",
      "source": [
        "s[1]+s[3]+s[4:]*10"
      ],
      "metadata": {
        "colab": {
          "base_uri": "https://localhost:8080/",
          "height": 35
        },
        "id": "vg7NsZgH6MHm",
        "outputId": "845f0818-fbf9-47a1-ff24-95978f4a2182"
      },
      "execution_count": null,
      "outputs": [
        {
          "output_type": "execute_result",
          "data": {
            "text/plain": [
              "'bdefefefefefefefefefef'"
            ],
            "application/vnd.google.colaboratory.intrinsic+json": {
              "type": "string"
            }
          },
          "metadata": {},
          "execution_count": 26
        }
      ]
    },
    {
      "cell_type": "markdown",
      "source": [
        "string에도 + 사용 가능"
      ],
      "metadata": {
        "id": "30Z4Ks6A7vrD"
      }
    },
    {
      "cell_type": "code",
      "source": [
        "s[0]+s[1]+s[1:4]*5"
      ],
      "metadata": {
        "colab": {
          "base_uri": "https://localhost:8080/",
          "height": 35
        },
        "id": "6zqDKq5N72zi",
        "outputId": "bb3fc40e-8398-49bd-86c2-a73cd1383c29"
      },
      "execution_count": null,
      "outputs": [
        {
          "output_type": "execute_result",
          "data": {
            "text/plain": [
              "'abbcdbcdbcdbcdbcd'"
            ],
            "application/vnd.google.colaboratory.intrinsic+json": {
              "type": "string"
            }
          },
          "metadata": {},
          "execution_count": 27
        }
      ]
    },
    {
      "cell_type": "code",
      "source": [
        "s.upper()"
      ],
      "metadata": {
        "colab": {
          "base_uri": "https://localhost:8080/",
          "height": 35
        },
        "id": "vM0U2jWT8FwH",
        "outputId": "5e552ba4-3a0a-4de6-e29b-62bebb1e946e"
      },
      "execution_count": null,
      "outputs": [
        {
          "output_type": "execute_result",
          "data": {
            "text/plain": [
              "'ABCDEF'"
            ],
            "application/vnd.google.colaboratory.intrinsic+json": {
              "type": "string"
            }
          },
          "metadata": {},
          "execution_count": 28
        }
      ]
    },
    {
      "cell_type": "markdown",
      "source": [
        "괄호가 보이면 함수임을 추론할 수 있음 <br>\n",
        "upper는 대문자로 만들어 줌"
      ],
      "metadata": {
        "id": "diFwQQVR8V0T"
      }
    },
    {
      "cell_type": "code",
      "source": [
        "s = 'i love you. '\n",
        "print(s)\n",
        "print(type(s))"
      ],
      "metadata": {
        "colab": {
          "base_uri": "https://localhost:8080/"
        },
        "id": "T6sZRzMV9vq3",
        "outputId": "52ead16b-90a2-439f-fdb5-dd5009b38f44"
      },
      "execution_count": null,
      "outputs": [
        {
          "output_type": "stream",
          "name": "stdout",
          "text": [
            "i love you. \n",
            "<class 'str'>\n"
          ]
        }
      ]
    },
    {
      "cell_type": "code",
      "source": [
        "s = ' this is a house built this year. '\n",
        "s"
      ],
      "metadata": {
        "colab": {
          "base_uri": "https://localhost:8080/",
          "height": 35
        },
        "id": "OAcg4KeN8vyh",
        "outputId": "fc23931d-4a23-4ef7-8b26-120707ed1613"
      },
      "execution_count": null,
      "outputs": [
        {
          "output_type": "execute_result",
          "data": {
            "text/plain": [
              "' this is a house built this year. '"
            ],
            "application/vnd.google.colaboratory.intrinsic+json": {
              "type": "string"
            }
          },
          "metadata": {},
          "execution_count": 119
        }
      ]
    },
    {
      "cell_type": "markdown",
      "source": [
        "셀의 마지막 줄인 경우에는 print 생략해도 되지만, 마지막 줄이 아닐 경우에는 print 써줘야 함"
      ],
      "metadata": {
        "id": "STKvHGSP9S2g"
      }
    },
    {
      "cell_type": "code",
      "source": [
        "result = s.find('house')\n",
        "result"
      ],
      "metadata": {
        "colab": {
          "base_uri": "https://localhost:8080/"
        },
        "id": "S8re9w2m9oiw",
        "outputId": "1d9faee3-fc0f-46ed-99fd-ca4e3e601947"
      },
      "execution_count": null,
      "outputs": [
        {
          "output_type": "execute_result",
          "data": {
            "text/plain": [
              "11"
            ]
          },
          "metadata": {},
          "execution_count": 120
        }
      ]
    },
    {
      "cell_type": "markdown",
      "source": [
        "house가 있는 위치를 찾아 줌"
      ],
      "metadata": {
        "id": "0EDn7f0k-C2K"
      }
    },
    {
      "cell_type": "code",
      "source": [
        "result = s.find('this')\n",
        "result"
      ],
      "metadata": {
        "colab": {
          "base_uri": "https://localhost:8080/"
        },
        "id": "kcs3toPg-GvI",
        "outputId": "80bb39a5-9e95-44a6-fda1-e5ce5683af1e"
      },
      "execution_count": null,
      "outputs": [
        {
          "output_type": "execute_result",
          "data": {
            "text/plain": [
              "1"
            ]
          },
          "metadata": {},
          "execution_count": 40
        }
      ]
    },
    {
      "cell_type": "markdown",
      "source": [
        "뒤에도 this 있지만 먼저 나오는 this를 찾아 줌"
      ],
      "metadata": {
        "id": "TrJMiqPT-MND"
      }
    },
    {
      "cell_type": "code",
      "source": [
        "s = s.strip()\n",
        "s"
      ],
      "metadata": {
        "colab": {
          "base_uri": "https://localhost:8080/",
          "height": 35
        },
        "id": "6ZqEWVli-YZf",
        "outputId": "39a2998f-4cb4-4a36-ffdf-f4e300e6855c"
      },
      "execution_count": null,
      "outputs": [
        {
          "output_type": "execute_result",
          "data": {
            "text/plain": [
              "'this is a house built this year.'"
            ],
            "application/vnd.google.colaboratory.intrinsic+json": {
              "type": "string"
            }
          },
          "metadata": {},
          "execution_count": 121
        }
      ]
    },
    {
      "cell_type": "markdown",
      "source": [
        "\\n은 줄바꿈 표시 <br>\n",
        "s.strip은 whitespace 없애 줌"
      ],
      "metadata": {
        "id": "REpeQL0z_q--"
      }
    },
    {
      "cell_type": "code",
      "source": [
        "tokens = s.split(' ')\n",
        "tokens"
      ],
      "metadata": {
        "colab": {
          "base_uri": "https://localhost:8080/"
        },
        "id": "5pcKbcw5_yIg",
        "outputId": "46795534-2016-4844-d203-ba7a893bb005"
      },
      "execution_count": null,
      "outputs": [
        {
          "output_type": "execute_result",
          "data": {
            "text/plain": [
              "['this', 'is', 'a', 'house', 'built', 'this', 'year.']"
            ]
          },
          "metadata": {},
          "execution_count": 58
        }
      ]
    },
    {
      "cell_type": "markdown",
      "source": [
        "빈칸을 중심으로 쪼개서 list로 만듦 (빈칸은 포함하지 않음)"
      ],
      "metadata": {
        "id": "u5mtxmig_-Zd"
      }
    },
    {
      "cell_type": "code",
      "source": [
        "s = ' '.join(tokens)\n",
        "s"
      ],
      "metadata": {
        "colab": {
          "base_uri": "https://localhost:8080/",
          "height": 35
        },
        "id": "Kavq8aSEADzk",
        "outputId": "447303f7-a3eb-4b91-a4e8-471d1f4f90f1"
      },
      "execution_count": null,
      "outputs": [
        {
          "output_type": "execute_result",
          "data": {
            "text/plain": [
              "'this is a house built this year.'"
            ],
            "application/vnd.google.colaboratory.intrinsic+json": {
              "type": "string"
            }
          },
          "metadata": {},
          "execution_count": 60
        }
      ]
    },
    {
      "cell_type": "markdown",
      "source": [
        "한 문장으로 만듦"
      ],
      "metadata": {
        "id": "oW0dB1zVANSH"
      }
    },
    {
      "cell_type": "code",
      "source": [
        "s = s.replace('this', 'that')\n",
        "s"
      ],
      "metadata": {
        "colab": {
          "base_uri": "https://localhost:8080/",
          "height": 35
        },
        "id": "NWSD4s4YAPJd",
        "outputId": "c6bcbfc8-b929-4b97-8d05-2c8f71f701f3"
      },
      "execution_count": null,
      "outputs": [
        {
          "output_type": "execute_result",
          "data": {
            "text/plain": [
              "'that is a house built that year.'"
            ],
            "application/vnd.google.colaboratory.intrinsic+json": {
              "type": "string"
            }
          },
          "metadata": {},
          "execution_count": 61
        }
      ]
    },
    {
      "cell_type": "code",
      "source": [
        "s = 'that girl is my friend.'\n",
        "s"
      ],
      "metadata": {
        "colab": {
          "base_uri": "https://localhost:8080/",
          "height": 35
        },
        "id": "e875nXVxAp6U",
        "outputId": "deb15541-ffbf-4e9e-834f-5ae4647a7cd4"
      },
      "execution_count": null,
      "outputs": [
        {
          "output_type": "execute_result",
          "data": {
            "text/plain": [
              "'that girl is my friend.'"
            ],
            "application/vnd.google.colaboratory.intrinsic+json": {
              "type": "string"
            }
          },
          "metadata": {},
          "execution_count": 63
        }
      ]
    },
    {
      "cell_type": "code",
      "source": [
        "tokens = s.split(' ')\n",
        "tokens"
      ],
      "metadata": {
        "colab": {
          "base_uri": "https://localhost:8080/"
        },
        "id": "meIEvBQvA4dI",
        "outputId": "bb43f0b8-76df-4f83-9212-dad0d2467733"
      },
      "execution_count": null,
      "outputs": [
        {
          "output_type": "execute_result",
          "data": {
            "text/plain": [
              "['this', 'is', 'a', 'house', 'built', 'this', 'year.']"
            ]
          },
          "metadata": {},
          "execution_count": 123
        }
      ]
    },
    {
      "cell_type": "markdown",
      "source": [
        "s.split 뒤에 있는 괄호에서 따옴표 사이에 space가 없으면 error 발생하는 것으로 보임"
      ],
      "metadata": {
        "id": "WKUuvbgQBGHH"
      }
    },
    {
      "cell_type": "code",
      "source": [
        "def add(a,b):\n",
        "  return a+b"
      ],
      "metadata": {
        "id": "iLyhaHqaBTYd"
      },
      "execution_count": null,
      "outputs": []
    },
    {
      "cell_type": "markdown",
      "source": [
        "def 함수명(입력변수1, 입력변수2): <br>\n",
        "함수에 대한 정의 <br>\n",
        "return 출력변수명"
      ],
      "metadata": {
        "id": "XdBq6WudBuiC"
      }
    },
    {
      "cell_type": "code",
      "source": [
        "def add(a,b):\n",
        "  c = a + b\n",
        "  return c"
      ],
      "metadata": {
        "id": "R2Nm48VxCu7e"
      },
      "execution_count": null,
      "outputs": []
    },
    {
      "cell_type": "markdown",
      "source": [
        "위의 것과 동일"
      ],
      "metadata": {
        "id": "SzTYv5t8C6AX"
      }
    },
    {
      "cell_type": "code",
      "source": [
        "def subtract(a,b):\n",
        "  return a-b\n",
        "\n",
        "def multiply(a,b):\n",
        "  return a*b\n",
        "\n",
        "def divide(a,b):\n",
        "  return a/b"
      ],
      "metadata": {
        "id": "ku4eyNlnDCdG"
      },
      "execution_count": null,
      "outputs": []
    },
    {
      "cell_type": "code",
      "source": [
        "c = add(2,5); print(c)"
      ],
      "metadata": {
        "colab": {
          "base_uri": "https://localhost:8080/"
        },
        "id": "IkcxOGeuDYFd",
        "outputId": "1d54ca79-6082-46f3-e9d2-201f72271f9e"
      },
      "execution_count": null,
      "outputs": [
        {
          "output_type": "stream",
          "name": "stdout",
          "text": [
            "7\n"
          ]
        }
      ]
    },
    {
      "cell_type": "code",
      "source": [
        "c = subtract(2,5); print(c)\n",
        "c = multiply(2,5); print(c)\n",
        "c = divide(2,5); print(c)"
      ],
      "metadata": {
        "colab": {
          "base_uri": "https://localhost:8080/"
        },
        "id": "EpSxHTqmDijC",
        "outputId": "3390e3e7-868f-455b-9169-6892779f1d4e"
      },
      "execution_count": null,
      "outputs": [
        {
          "output_type": "stream",
          "name": "stdout",
          "text": [
            "-3\n",
            "10\n",
            "0.4\n"
          ]
        }
      ]
    },
    {
      "cell_type": "code",
      "source": [
        "a = [1, 2, 3, 4]\n",
        "for i in a:\n",
        "    print(i)"
      ],
      "metadata": {
        "colab": {
          "base_uri": "https://localhost:8080/"
        },
        "id": "mf0YJ9efD7UR",
        "outputId": "e07c600f-c650-4f79-823c-71ff9f35f420"
      },
      "execution_count": null,
      "outputs": [
        {
          "output_type": "stream",
          "name": "stdout",
          "text": [
            "1\n",
            "2\n",
            "3\n",
            "4\n"
          ]
        }
      ]
    },
    {
      "cell_type": "markdown",
      "source": [
        "a에 있는 것들을 처음부터 하나씩 받아서 i에 넣고 돌림 (for loop) <br>\n",
        "총 4번 돌아감"
      ],
      "metadata": {
        "id": "o9AVN3P0EhlY"
      }
    },
    {
      "cell_type": "code",
      "source": [
        "a = [1, 2, 3, 4]\n",
        "for i in range(4):\n",
        "  print(a[i])"
      ],
      "metadata": {
        "colab": {
          "base_uri": "https://localhost:8080/"
        },
        "id": "TzByzrIgE2Wo",
        "outputId": "a627133d-acea-4037-a9af-edf3445849ba"
      },
      "execution_count": null,
      "outputs": [
        {
          "output_type": "stream",
          "name": "stdout",
          "text": [
            "1\n",
            "2\n",
            "3\n",
            "4\n"
          ]
        }
      ]
    },
    {
      "cell_type": "markdown",
      "source": [
        "range 사용하여 index 활용하는 방법도 가능"
      ],
      "metadata": {
        "id": "cT-JHXzvFHv9"
      }
    },
    {
      "cell_type": "markdown",
      "source": [
        "len(a)=4"
      ],
      "metadata": {
        "id": "vhx_cfTVFidK"
      }
    },
    {
      "cell_type": "code",
      "source": [
        "a = ['red', 'green', 'blue', 'purple']\n",
        "for i in a:\n",
        "    print(i)"
      ],
      "metadata": {
        "colab": {
          "base_uri": "https://localhost:8080/"
        },
        "id": "THw7QLbJFX51",
        "outputId": "fa09ed75-2c61-4dc9-9eae-3ac390770fb2"
      },
      "execution_count": null,
      "outputs": [
        {
          "output_type": "stream",
          "name": "stdout",
          "text": [
            "red\n",
            "green\n",
            "blue\n",
            "purple\n"
          ]
        }
      ]
    },
    {
      "cell_type": "code",
      "source": [
        "a = ['red', 'green', 'blue', 'purple']\n",
        "for i in range(len(a)):\n",
        "    print(a[i])"
      ],
      "metadata": {
        "colab": {
          "base_uri": "https://localhost:8080/"
        },
        "id": "FrcqdOGFFtBz",
        "outputId": "d7fbcfbe-95b3-4f26-c043-df7a9904fda3"
      },
      "execution_count": null,
      "outputs": [
        {
          "output_type": "stream",
          "name": "stdout",
          "text": [
            "red\n",
            "green\n",
            "blue\n",
            "purple\n"
          ]
        }
      ]
    },
    {
      "cell_type": "code",
      "source": [
        "a = 0\n",
        "if a == 0:\n",
        "    print(a)"
      ],
      "metadata": {
        "colab": {
          "base_uri": "https://localhost:8080/"
        },
        "id": "QJbKq9C-GBET",
        "outputId": "0adb7e14-e7c1-49cf-9e6e-7d29fe9459ab"
      },
      "execution_count": null,
      "outputs": [
        {
          "output_type": "stream",
          "name": "stdout",
          "text": [
            "0\n"
          ]
        }
      ]
    },
    {
      "cell_type": "markdown",
      "source": [
        "= : assign의 의미 <br>\n",
        "== : 같다는 의미"
      ],
      "metadata": {
        "id": "5e4yU-MlGIx8"
      }
    },
    {
      "cell_type": "markdown",
      "source": [
        "a가 0과 같다면 print해라"
      ],
      "metadata": {
        "id": "ttj8IbYnGfv2"
      }
    },
    {
      "cell_type": "markdown",
      "source": [
        "!= : ~이 아니라면"
      ],
      "metadata": {
        "id": "hmKrsX5oGwnD"
      }
    },
    {
      "cell_type": "code",
      "source": [
        "a = 0\n",
        "if a != 0:\n",
        "    print(a)\n",
        "else:\n",
        "    print(a+1)"
      ],
      "metadata": {
        "colab": {
          "base_uri": "https://localhost:8080/"
        },
        "id": "3Yif2BCWGzuL",
        "outputId": "f665480d-a021-4c5e-ba36-4a4b1ad43400"
      },
      "execution_count": null,
      "outputs": [
        {
          "output_type": "stream",
          "name": "stdout",
          "text": [
            "1\n"
          ]
        }
      ]
    },
    {
      "cell_type": "code",
      "source": [
        "for i in range(1, 3):\n",
        "    for j in range(3, 5):\n",
        "        print(i*j)"
      ],
      "metadata": {
        "colab": {
          "base_uri": "https://localhost:8080/"
        },
        "id": "VMtnSDd7HEKL",
        "outputId": "5eb7ec8a-b673-4d5c-e372-53594f33ef94"
      },
      "execution_count": null,
      "outputs": [
        {
          "output_type": "stream",
          "name": "stdout",
          "text": [
            "3\n",
            "4\n",
            "6\n",
            "8\n"
          ]
        }
      ]
    },
    {
      "cell_type": "markdown",
      "source": [
        "for 중첩해서 사용할 수 있음"
      ],
      "metadata": {
        "id": "Q7N2OJx2HPbM"
      }
    },
    {
      "cell_type": "markdown",
      "source": [
        "range(4) : [0, 1, 2, 3] <br>\n",
        "range(1,3) : [1, 2]"
      ],
      "metadata": {
        "id": "MvH-qjlNHdm0"
      }
    },
    {
      "cell_type": "code",
      "source": [
        "for i in range(1, 3):\n",
        "    for j in range(3, 5):\n",
        "        if j>=4:\n",
        "            print(i*j)"
      ],
      "metadata": {
        "colab": {
          "base_uri": "https://localhost:8080/"
        },
        "id": "smkVQ5ADH0A_",
        "outputId": "bece3396-f69e-401c-8b32-f3b7b29e5650"
      },
      "execution_count": null,
      "outputs": [
        {
          "output_type": "stream",
          "name": "stdout",
          "text": [
            "4\n",
            "8\n"
          ]
        }
      ]
    },
    {
      "cell_type": "code",
      "source": [
        "a = [0, 1, 2, 3, 4, 5]\n",
        "b = [i for i in a if i <=4]\n",
        "b"
      ],
      "metadata": {
        "colab": {
          "base_uri": "https://localhost:8080/"
        },
        "id": "sHVFDAIZI9Rx",
        "outputId": "40b69f27-997b-4812-8e32-624d8fbfa603"
      },
      "execution_count": null,
      "outputs": [
        {
          "output_type": "execute_result",
          "data": {
            "text/plain": [
              "[0, 1, 2, 3, 4]"
            ]
          },
          "metadata": {},
          "execution_count": 82
        }
      ]
    },
    {
      "cell_type": "code",
      "source": [
        "a = ['banana', 'watermelon', 'orange', 'strawberry', 'apple']\n",
        "b = [i for i in a if len(i) >6]\n",
        "b"
      ],
      "metadata": {
        "colab": {
          "base_uri": "https://localhost:8080/"
        },
        "id": "GVCXpIBfJJbs",
        "outputId": "73c80810-5dbb-4b8e-b96b-596e1d29c66e"
      },
      "execution_count": null,
      "outputs": [
        {
          "output_type": "execute_result",
          "data": {
            "text/plain": [
              "['watermelon', 'strawberry']"
            ]
          },
          "metadata": {},
          "execution_count": 83
        }
      ]
    },
    {
      "cell_type": "code",
      "source": [
        "a = ['yellow', 'white', 'pink', 'red']\n",
        "b = [1, 2, 3, 4]\n",
        "c = {a[i]:b[i] for i in range(4)}\n",
        "c"
      ],
      "metadata": {
        "colab": {
          "base_uri": "https://localhost:8080/"
        },
        "id": "6d6nSY1gJqBt",
        "outputId": "3a7e78d1-f655-4283-a988-b3165dda9fc8"
      },
      "execution_count": null,
      "outputs": [
        {
          "output_type": "execute_result",
          "data": {
            "text/plain": [
              "{'pink': 3, 'red': 4, 'white': 2, 'yellow': 1}"
            ]
          },
          "metadata": {},
          "execution_count": 84
        }
      ]
    },
    {
      "cell_type": "code",
      "source": [
        "import numpy"
      ],
      "metadata": {
        "id": "9GEM6A_2KGKQ"
      },
      "execution_count": null,
      "outputs": []
    },
    {
      "cell_type": "markdown",
      "source": [
        "numpy : 난수 generate, 간단한 통계처리 등을 할 때 필요"
      ],
      "metadata": {
        "id": "hU502Yy0Kpix"
      }
    },
    {
      "cell_type": "code",
      "source": [
        "numpy.random.randn(5)"
      ],
      "metadata": {
        "colab": {
          "base_uri": "https://localhost:8080/"
        },
        "id": "TL-d8tynKzQx",
        "outputId": "2a084ecb-babc-4855-db9d-2952ab3a53ee"
      },
      "execution_count": null,
      "outputs": [
        {
          "output_type": "execute_result",
          "data": {
            "text/plain": [
              "array([-0.0863468 ,  1.92946367,  0.431586  , -1.80687359,  0.4865623 ])"
            ]
          },
          "metadata": {},
          "execution_count": 86
        }
      ]
    },
    {
      "cell_type": "markdown",
      "source": [
        "만들어진 random number들은 정규분포를 따름"
      ],
      "metadata": {
        "id": "CYcwbGYvK5PW"
      }
    },
    {
      "cell_type": "markdown",
      "source": [
        "이 function 사용하기 위해서는 import numpy 필요"
      ],
      "metadata": {
        "id": "hkqB5e2kLG2W"
      }
    },
    {
      "cell_type": "code",
      "source": [
        "import numpy as np\n",
        "n = np.random.randn(100)"
      ],
      "metadata": {
        "id": "M6Hy2SqjK4nX"
      },
      "execution_count": null,
      "outputs": []
    },
    {
      "cell_type": "code",
      "source": [
        "import matplotlib\n",
        "matplotlib.pyplot.hist(n)"
      ],
      "metadata": {
        "colab": {
          "base_uri": "https://localhost:8080/",
          "height": 354
        },
        "id": "_W8CizPGLdhT",
        "outputId": "20147d58-b0e2-4d4e-83ab-0fb5f104bd09"
      },
      "execution_count": null,
      "outputs": [
        {
          "output_type": "execute_result",
          "data": {
            "text/plain": [
              "(array([ 4.,  3.,  8., 14., 12., 27., 17.,  5.,  8.,  2.]),\n",
              " array([-2.2495029 , -1.77913597, -1.30876903, -0.8384021 , -0.36803516,\n",
              "         0.10233177,  0.57269871,  1.04306564,  1.51343258,  1.98379951,\n",
              "         2.45416645]),\n",
              " <a list of 10 Patch objects>)"
            ]
          },
          "metadata": {},
          "execution_count": 93
        },
        {
          "output_type": "display_data",
          "data": {
            "text/plain": [
              "<Figure size 432x288 with 1 Axes>"
            ],
            "image/png": "[encoded data removed]"
          },
          "metadata": {
            "needs_background": "light"
          }
        }
      ]
    },
    {
      "cell_type": "markdown",
      "source": [
        "x축 : 숫자, y축 : 개수(frequency)"
      ],
      "metadata": {
        "id": "0b7SW6bWMD-S"
      }
    },
    {
      "cell_type": "code",
      "source": [
        "import matplotlib.pyplot as plt\n",
        "matplotlib.pyplot.hist(n)"
      ],
      "metadata": {
        "colab": {
          "base_uri": "https://localhost:8080/",
          "height": 354
        },
        "id": "QK3ykz6MMeLR",
        "outputId": "513c177a-6666-42d2-8869-4046d957c4ca"
      },
      "execution_count": null,
      "outputs": [
        {
          "output_type": "execute_result",
          "data": {
            "text/plain": [
              "(array([ 4.,  3.,  8., 14., 12., 27., 17.,  5.,  8.,  2.]),\n",
              " array([-2.2495029 , -1.77913597, -1.30876903, -0.8384021 , -0.36803516,\n",
              "         0.10233177,  0.57269871,  1.04306564,  1.51343258,  1.98379951,\n",
              "         2.45416645]),\n",
              " <a list of 10 Patch objects>)"
            ]
          },
          "metadata": {},
          "execution_count": 96
        },
        {
          "output_type": "display_data",
          "data": {
            "text/plain": [
              "<Figure size 432x288 with 1 Axes>"
            ],
            "image/png": "[encoded data removed]"
          },
          "metadata": {
            "needs_background": "light"
          }
        }
      ]
    },
    {
      "cell_type": "code",
      "source": [
        "import matplotlib.pyplot as plt\n",
        "plt.hist(n)"
      ],
      "metadata": {
        "colab": {
          "base_uri": "https://localhost:8080/",
          "height": 354
        },
        "id": "vM_xmZvYMMcg",
        "outputId": "bf496b92-878d-4149-f8fe-9bface029e60"
      },
      "execution_count": null,
      "outputs": [
        {
          "output_type": "execute_result",
          "data": {
            "text/plain": [
              "(array([ 4.,  3.,  8., 14., 12., 27., 17.,  5.,  8.,  2.]),\n",
              " array([-2.2495029 , -1.77913597, -1.30876903, -0.8384021 , -0.36803516,\n",
              "         0.10233177,  0.57269871,  1.04306564,  1.51343258,  1.98379951,\n",
              "         2.45416645]),\n",
              " <a list of 10 Patch objects>)"
            ]
          },
          "metadata": {},
          "execution_count": 95
        },
        {
          "output_type": "display_data",
          "data": {
            "text/plain": [
              "<Figure size 432x288 with 1 Axes>"
            ],
            "image/png": "[encoded data removed]"
          },
          "metadata": {
            "needs_background": "light"
          }
        }
      ]
    },
    {
      "cell_type": "markdown",
      "source": [
        "plt로 축약하는 방법"
      ],
      "metadata": {
        "id": "1Bwjj5bRM-QO"
      }
    },
    {
      "cell_type": "code",
      "source": [
        "from matplotlib import pyplot\n",
        "pyplot.hist(n)"
      ],
      "metadata": {
        "colab": {
          "base_uri": "https://localhost:8080/",
          "height": 354
        },
        "id": "jVmL1wVgMqVw",
        "outputId": "032c12fd-3a14-48b4-9c1a-3c148f071f3d"
      },
      "execution_count": null,
      "outputs": [
        {
          "output_type": "execute_result",
          "data": {
            "text/plain": [
              "(array([ 4.,  3.,  8., 14., 12., 27., 17.,  5.,  8.,  2.]),\n",
              " array([-2.2495029 , -1.77913597, -1.30876903, -0.8384021 , -0.36803516,\n",
              "         0.10233177,  0.57269871,  1.04306564,  1.51343258,  1.98379951,\n",
              "         2.45416645]),\n",
              " <a list of 10 Patch objects>)"
            ]
          },
          "metadata": {},
          "execution_count": 97
        },
        {
          "output_type": "display_data",
          "data": {
            "text/plain": [
              "<Figure size 432x288 with 1 Axes>"
            ],
            "image/png": "[encoded data removed]"
          },
          "metadata": {
            "needs_background": "light"
          }
        }
      ]
    },
    {
      "cell_type": "code",
      "source": [
        "from matplotlib.pyplot import hist\n",
        "hist(n)"
      ],
      "metadata": {
        "colab": {
          "base_uri": "https://localhost:8080/",
          "height": 354
        },
        "id": "ZH8gQBD7MzHS",
        "outputId": "2bcde936-0905-45a1-c5bf-ca347d2d3b0c"
      },
      "execution_count": null,
      "outputs": [
        {
          "output_type": "execute_result",
          "data": {
            "text/plain": [
              "(array([ 4.,  3.,  8., 14., 12., 27., 17.,  5.,  8.,  2.]),\n",
              " array([-2.2495029 , -1.77913597, -1.30876903, -0.8384021 , -0.36803516,\n",
              "         0.10233177,  0.57269871,  1.04306564,  1.51343258,  1.98379951,\n",
              "         2.45416645]),\n",
              " <a list of 10 Patch objects>)"
            ]
          },
          "metadata": {},
          "execution_count": 98
        },
        {
          "output_type": "display_data",
          "data": {
            "text/plain": [
              "<Figure size 432x288 with 1 Axes>"
            ],
            "image/png": "[encoded data removed]"
          },
          "metadata": {
            "needs_background": "light"
          }
        }
      ]
    },
    {
      "cell_type": "markdown",
      "source": [
        "matrix(행렬) : 직사각형 숫자 배열 <br>\n",
        "nd array = n-dimensional array"
      ],
      "metadata": {
        "id": "ZsW_bXVENUjE"
      }
    },
    {
      "cell_type": "code",
      "source": [
        "x = np.array([1,2,3,4])\n",
        "print(x)\n",
        "print(type(x))\n",
        "print(x.shape)"
      ],
      "metadata": {
        "colab": {
          "base_uri": "https://localhost:8080/"
        },
        "id": "ord5qb-7Nm6U",
        "outputId": "b9c97cd0-f147-4d9d-9727-a0a44dcdd831"
      },
      "execution_count": null,
      "outputs": [
        {
          "output_type": "stream",
          "name": "stdout",
          "text": [
            "[1 2 3 4]\n",
            "<class 'numpy.ndarray'>\n",
            "(4,)\n"
          ]
        }
      ]
    },
    {
      "cell_type": "markdown",
      "source": [
        "class : 특수한 변수 <br>\n",
        "(4, ) : 4개짜리 1d array"
      ],
      "metadata": {
        "id": "Nl4b0-u7NzCN"
      }
    },
    {
      "cell_type": "code",
      "source": [
        "x = np.arange(0,20,2)\n",
        "print(x)\n",
        "print(type(x))\n",
        "print(x.shape)"
      ],
      "metadata": {
        "colab": {
          "base_uri": "https://localhost:8080/"
        },
        "id": "qEz-Q50KONc2",
        "outputId": "d32da15c-c84a-46ec-e5af-690c9fa8c27a"
      },
      "execution_count": null,
      "outputs": [
        {
          "output_type": "stream",
          "name": "stdout",
          "text": [
            "[ 0  2  4  6  8 10 12 14 16 18]\n",
            "<class 'numpy.ndarray'>\n",
            "(10,)\n"
          ]
        }
      ]
    },
    {
      "cell_type": "markdown",
      "source": [
        "(0, 20, 2)에서 2는 increment(증가), 마지막(20)은 포함되지 않음"
      ],
      "metadata": {
        "id": "k2Z0UG1eOe4W"
      }
    },
    {
      "cell_type": "code",
      "source": [
        "x = np.linspace(0,10,6)\n",
        "print(x)\n",
        "print(type(x))\n",
        "print(x.shape)"
      ],
      "metadata": {
        "colab": {
          "base_uri": "https://localhost:8080/"
        },
        "id": "e10TMDVnOqpT",
        "outputId": "779a4582-3e05-4c3f-eeae-25076d4956af"
      },
      "execution_count": null,
      "outputs": [
        {
          "output_type": "stream",
          "name": "stdout",
          "text": [
            "[ 0.  2.  4.  6.  8. 10.]\n",
            "<class 'numpy.ndarray'>\n",
            "(6,)\n"
          ]
        }
      ]
    },
    {
      "cell_type": "markdown",
      "source": [
        "linspace = linear space <br>\n",
        "10을 포함해서 0부터 10까지 등분하여 6개의 숫자를 만들어라 (간격이 같아야 함)"
      ],
      "metadata": {
        "id": "kAE2ZEsDO6Sb"
      }
    },
    {
      "cell_type": "code",
      "source": [
        "x = np.linspace(0,20,6)\n",
        "print(x)"
      ],
      "metadata": {
        "colab": {
          "base_uri": "https://localhost:8080/"
        },
        "id": "1pjTL8UHPW_c",
        "outputId": "d2dabbb4-c230-460a-c478-4f21a6666ef6"
      },
      "execution_count": null,
      "outputs": [
        {
          "output_type": "stream",
          "name": "stdout",
          "text": [
            "[ 0.  4.  8. 12. 16. 20.]\n"
          ]
        }
      ]
    },
    {
      "cell_type": "code",
      "source": [
        "x = np.array([[1,2,3], [4,5,6]])\n",
        "print(x)\n",
        "print(type(x))\n",
        "print(x.shape)"
      ],
      "metadata": {
        "colab": {
          "base_uri": "https://localhost:8080/"
        },
        "id": "Ck54g_plQIl2",
        "outputId": "289677cc-6e9f-4e34-ac97-f08eb2781dd7"
      },
      "execution_count": null,
      "outputs": [
        {
          "output_type": "stream",
          "name": "stdout",
          "text": [
            "[[1 2 3]\n",
            " [4 5 6]]\n",
            "<class 'numpy.ndarray'>\n",
            "(2, 3)\n"
          ]
        }
      ]
    },
    {
      "cell_type": "markdown",
      "source": [
        "2 rows, 3 columns (2d)"
      ],
      "metadata": {
        "id": "GSodGDyOQUMT"
      }
    },
    {
      "cell_type": "code",
      "source": [
        "x = np.array([[1,2,3], [4,5,6], [7,8,9], [10, 11, 12]])\n",
        "print(x)\n",
        "print(type(x))\n",
        "print(x.shape)"
      ],
      "metadata": {
        "colab": {
          "base_uri": "https://localhost:8080/"
        },
        "id": "F9hAkCsRPxzK",
        "outputId": "ff1a59f3-0690-4cc4-f481-cb0fd55a10d7"
      },
      "execution_count": null,
      "outputs": [
        {
          "output_type": "stream",
          "name": "stdout",
          "text": [
            "[[ 1  2  3]\n",
            " [ 4  5  6]\n",
            " [ 7  8  9]\n",
            " [10 11 12]]\n",
            "<class 'numpy.ndarray'>\n",
            "(4, 3)\n"
          ]
        }
      ]
    },
    {
      "cell_type": "markdown",
      "source": [
        "중첩된 list를 array로 만듦 <br>\n",
        "몇 차원의 array인지 파악할 때에는 제일 처음/끝에 있는 대괄호의 개수를 보면 알 수 있음"
      ],
      "metadata": {
        "id": "NzUdMHv6Qpt_"
      }
    },
    {
      "cell_type": "code",
      "source": [
        "x = np.ones([2, 2, 3])\n",
        "print(x)\n",
        "print(type(x))\n",
        "print(x.shape)"
      ],
      "metadata": {
        "colab": {
          "base_uri": "https://localhost:8080/"
        },
        "id": "B6D3x8mMQpVF",
        "outputId": "fcbbb567-e343-4bc8-d70b-147110cc0ccd"
      },
      "execution_count": null,
      "outputs": [
        {
          "output_type": "stream",
          "name": "stdout",
          "text": [
            "[[[1. 1. 1.]\n",
            "  [1. 1. 1.]]\n",
            "\n",
            " [[1. 1. 1.]\n",
            "  [1. 1. 1.]]]\n",
            "<class 'numpy.ndarray'>\n",
            "(2, 2, 3)\n"
          ]
        }
      ]
    },
    {
      "cell_type": "code",
      "source": [
        "x = np.zeros([2,2,3])\n",
        "print(x)\n",
        "print(type(x))\n",
        "print(x.shape)\n",
        "x.reshape(3,2,2)"
      ],
      "metadata": {
        "colab": {
          "base_uri": "https://localhost:8080/"
        },
        "id": "zam84GshSct_",
        "outputId": "6c181054-916f-4d08-f1b4-b8b13a1e59aa"
      },
      "execution_count": null,
      "outputs": [
        {
          "output_type": "stream",
          "name": "stdout",
          "text": [
            "[[[0. 0. 0.]\n",
            "  [0. 0. 0.]]\n",
            "\n",
            " [[0. 0. 0.]\n",
            "  [0. 0. 0.]]]\n",
            "<class 'numpy.ndarray'>\n",
            "(2, 2, 3)\n"
          ]
        },
        {
          "output_type": "execute_result",
          "data": {
            "text/plain": [
              "array([[[0., 0.],\n",
              "        [0., 0.]],\n",
              "\n",
              "       [[0., 0.],\n",
              "        [0., 0.]],\n",
              "\n",
              "       [[0., 0.],\n",
              "        [0., 0.]]])"
            ]
          },
          "metadata": {},
          "execution_count": 110
        }
      ]
    },
    {
      "cell_type": "code",
      "source": [
        "np.random.normal(0, 1, [2,3,4])"
      ],
      "metadata": {
        "colab": {
          "base_uri": "https://localhost:8080/"
        },
        "id": "NpVdYWR6Ssnf",
        "outputId": "8ac4907b-bae4-4722-f583-006342395e76"
      },
      "execution_count": null,
      "outputs": [
        {
          "output_type": "execute_result",
          "data": {
            "text/plain": [
              "array([[[ 0.81879791, -0.03364789, -0.73509419,  0.12117747],\n",
              "        [-0.33091046, -1.67285513,  1.62840549, -0.13222951],\n",
              "        [ 0.5354256 , -0.30899146,  0.56713546,  0.76020205]],\n",
              "\n",
              "       [[-0.20036413, -1.30925354, -0.34670813, -0.29489681],\n",
              "        [-0.61760642, -0.37494342,  0.2511843 ,  0.23563895],\n",
              "        [ 1.93438099,  0.58417769,  2.28774361, -0.1368718 ]]])"
            ]
          },
          "metadata": {},
          "execution_count": 111
        }
      ]
    },
    {
      "cell_type": "markdown",
      "source": [
        "(0, 1, [2,3,4])에서 첫 번째 값은 mean, 두 번째 값은 standard deviation, 세 번째는 구조"
      ],
      "metadata": {
        "id": "g2kkmHGDSzWb"
      }
    },
    {
      "cell_type": "code",
      "source": [
        "import matplotlib.pyplot as plt"
      ],
      "metadata": {
        "id": "vuybGS_TTo8q"
      },
      "execution_count": null,
      "outputs": []
    },
    {
      "cell_type": "code",
      "source": [
        "x = np.random.normal(0, 1, 100)\n",
        "print(x)\n",
        "plt.hist(x, bins=10)"
      ],
      "metadata": {
        "colab": {
          "base_uri": "https://localhost:8080/",
          "height": 663
        },
        "id": "bAovulf1TZEC",
        "outputId": "ed88d47d-0787-4c83-f1db-53515ca53d88"
      },
      "execution_count": null,
      "outputs": [
        {
          "output_type": "stream",
          "name": "stdout",
          "text": [
            "[ 1.78785652 -2.24633861  0.21057679  0.78541676  0.443712   -0.14001462\n",
            " -1.87672923  0.4550872  -0.52178089 -0.85579245  0.81254914 -2.58379488\n",
            "  0.27432986  0.28718106  1.01860388 -0.93068611  1.0403269  -0.01953145\n",
            "  0.49156603  1.62365416  0.13079884 -0.44696922  0.01447062  0.94681406\n",
            "  1.08357805  0.75579567  1.36432202 -0.26684635  1.34917938  1.26338835\n",
            "  2.0386578   2.80653206  1.31315609 -0.34060461  0.93502147  0.20228493\n",
            " -0.40559974 -0.02075458 -1.3599211   0.41401981  0.38637738  0.088322\n",
            "  1.24966339 -0.12625093 -1.14333972 -0.40825263 -0.01722451 -0.66166697\n",
            " -0.1382253   1.03370194 -0.74332697  1.31918334 -0.63948002 -2.35969566\n",
            "  0.68954436  0.30694951 -0.61563353  0.04142848 -0.49201954  0.26887106\n",
            "  0.08993187  0.14031123 -0.06696002  0.46549729  0.96554806  0.17496967\n",
            "  1.67487201 -1.00020548  0.76895191  0.25346328  0.26068164  0.3191325\n",
            "  0.09863899  0.28975592  1.3901992  -0.28953176 -0.34550545  0.89943312\n",
            "  0.33584414 -0.45771966 -0.83191992  0.3087526   0.2744973  -0.43616657\n",
            " -1.20640458 -1.15351924  1.92772906  0.55326608 -1.50779857 -0.41181927\n",
            " -0.97949044  1.6607231  -1.71730253 -1.67765649  0.43177735  0.81358214\n",
            "  0.67362514  0.82976455 -0.49780888  0.78539674]\n"
          ]
        },
        {
          "output_type": "execute_result",
          "data": {
            "text/plain": [
              "(array([ 3.,  4.,  6., 13., 19., 24., 17., 10.,  3.,  1.]),\n",
              " array([-2.58379488, -2.04476219, -1.50572949, -0.9666968 , -0.42766411,\n",
              "         0.11136859,  0.65040128,  1.18943397,  1.72846667,  2.26749936,\n",
              "         2.80653206]),\n",
              " <a list of 10 Patch objects>)"
            ]
          },
          "metadata": {},
          "execution_count": 114
        },
        {
          "output_type": "display_data",
          "data": {
            "text/plain": [
              "<Figure size 432x288 with 1 Axes>"
            ],
            "image/png": "[encoded data removed]"
          },
          "metadata": {
            "needs_background": "light"
          }
        }
      ]
    },
    {
      "cell_type": "markdown",
      "source": [
        "100개짜리 1d array <br>\n",
        "bin : 통 <br>\n",
        "bins = 10 : 10개의 통"
      ],
      "metadata": {
        "id": "ag_5145WTutv"
      }
    },
    {
      "cell_type": "code",
      "source": [
        "plt.figure()\n",
        "\n",
        "theta1 = np.linspace(0, 2*np.pi, 100)\n",
        "s1 = np.sin(theta1)\n",
        "theta2 = np.linspace(0, 2*np.pi, 100) + np.pi/2\n",
        "s2 = np.sin(theta2)\n",
        "\n",
        "plt.subplot(2, 1, 1)\n",
        "plt.plot(theta1, s1, '.')\n",
        "plt.subplot(2, 1, 2)\n",
        "plt.plot(theta2, s2, '.')"
      ],
      "metadata": {
        "colab": {
          "base_uri": "https://localhost:8080/",
          "height": 283
        },
        "id": "guPkEsa0UIt4",
        "outputId": "06e8ae93-2525-47d2-98fc-117320d752db"
      },
      "execution_count": null,
      "outputs": [
        {
          "output_type": "execute_result",
          "data": {
            "text/plain": [
              "[<matplotlib.lines.Line2D at 0x7f04fb649a10>]"
            ]
          },
          "metadata": {},
          "execution_count": 115
        },
        {
          "output_type": "display_data",
          "data": {
            "text/plain": [
              "<Figure size 432x288 with 2 Axes>"
            ],
            "image/png": "[encoded data removed]"
          },
          "metadata": {
            "needs_background": "light"
          }
        }
      ]
    },
    {
      "cell_type": "markdown",
      "source": [
        "np.linspace(0, 2*np.pi, 100) : 0부터 2pi까지 (2pi 포함) 동일한 간격으로 100개의 숫자를 만들어라 <br>\n",
        "theta1에 있는 개수는? 100개 <br>\n",
        "s1에 있는 숫자의 개수는? 100개 <br>\n",
        "theta1 : 입력, s1 : 출력 / theta2 : 입력, s2 : 출력"
      ],
      "metadata": {
        "id": "9g8tCAR2U40d"
      }
    },
    {
      "cell_type": "markdown",
      "source": [
        "plot이라는 함수는 2개의 입력을 반드시 받아야 함 <br>\n",
        "plt.subplot(2,1,1)에서 첫 번째 값은 rows, 두 번째 값은 columns, 세 번째는 어느 그림을 그릴 것인지"
      ],
      "metadata": {
        "id": "vFhrkXuBV5Ts"
      }
    },
    {
      "cell_type": "code",
      "source": [
        "np.corrcoef(s1,s2)"
      ],
      "metadata": {
        "colab": {
          "base_uri": "https://localhost:8080/"
        },
        "id": "JHDULt93WjGB",
        "outputId": "63ab6d1d-e074-478f-d813-2dd28068bfbf"
      },
      "execution_count": null,
      "outputs": [
        {
          "output_type": "execute_result",
          "data": {
            "text/plain": [
              "array([[1.00000000e+00, 2.41915449e-17],\n",
              "       [2.41915449e-17, 1.00000000e+00]])"
            ]
          },
          "metadata": {},
          "execution_count": 116
        }
      ]
    },
    {
      "cell_type": "markdown",
      "source": [
        "correlation : 비례 <br>\n",
        "coef 구해서 어느 정도 비례/반비례하는지 <br>\n",
        "-1<=r<=1 <br>\n",
        "r 값이 + : 정비례 / r 값이 - : 반비례 <br>\n",
        "r의 절댓값이 1에 가까워질수록 상관관계가 높음"
      ],
      "metadata": {
        "id": "5IBvGUhiWx0J"
      }
    },
    {
      "cell_type": "markdown",
      "source": [
        "이 두 개를 correlation 시켰을 때 0이 나온다는 것을 알 수 있음"
      ],
      "metadata": {
        "id": "GV3CeaG3Xof-"
      }
    }
  ]
}