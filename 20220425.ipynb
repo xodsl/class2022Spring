{
  "nbformat": 4,
  "nbformat_minor": 0,
  "metadata": {
    "colab": {
      "name": "20220425.ipynb",
      "provenance": [],
      "authorship_tag": "ABX9TyPOYKAqq9AD9IusaVLDMDjP",
      "include_colab_link": true
    },
    "kernelspec": {
      "name": "python3",
      "display_name": "Python 3"
    },
    "language_info": {
      "name": "python"
    }
  },
  "cells": [
    {
      "cell_type": "markdown",
      "metadata": {
        "id": "view-in-github",
        "colab_type": "text"
      },
      "source": [
        "<a href=\"https://colab.research.google.com/github/xodsl/class2022Spring/blob/main/20220425.ipynb\" target=\"_parent\"><img src=\"https://colab.research.google.com/assets/colab-badge.svg\" alt=\"Open In Colab\"/></a>"
      ]
    },
    {
      "cell_type": "markdown",
      "source": [
        "### Auto Correlation (자기상관)"
      ],
      "metadata": {
        "id": "HxIg1ZnREyGN"
      }
    },
    {
      "cell_type": "markdown",
      "source": [
        "두 개의 다른 time series 간의 상관관계를 파악하는 Correlation과 유사하지만 차이점은 Auto Correlation은 같은 time series를 두 번 사용한다는 것 (한 번은 original form으로, 한 번은 lagged된 것을 사용하거나 더 많은 time period를 추가하여 사용)\n",
        "\n",
        "- 주어진 dataset에서 randomness를 확인할 때 주로 사용함\n",
        "- time series analysis & forecasting에 주로 사용됨\n",
        "- time series 안의 relationship's strength를 observation을 통해 요약하고 이전의 time series도 graphically 관찰"
      ],
      "metadata": {
        "id": "36Drk4-5E6Qk"
      }
    },
    {
      "cell_type": "markdown",
      "source": [
        "### Root Mean Square (제곱평균제곱근)"
      ],
      "metadata": {
        "id": "GR3kLQgAFiYz"
      }
    },
    {
      "cell_type": "markdown",
      "source": [
        "원래의 값을 제곱한 값들의 평균값의 양의 제곱근\n",
        "\n",
        "- 대푯값(representative value)의 일종\n",
        "- 평균값과 매우 유사한 성격의 값"
      ],
      "metadata": {
        "id": "Hptq3s9AFpYw"
      }
    },
    {
      "cell_type": "markdown",
      "source": [
        "\n",
        "Root Mean Square Error (RMSE) = 평균제곱근 오차\n",
        "\n",
        "- RMSE는 MSE (Mean Squared Eroor)에 root를 씌운 error 지표\n",
        "- MSE보다 error 그 자체의 평균을 보다 직관적으로 보여줌"
      ],
      "metadata": {
        "id": "XtRxxNq7F6wE"
      }
    }
  ]
}