{
  "nbformat": 4,
  "nbformat_minor": 0,
  "metadata": {
    "colab": {
      "name": "20220328.ipynb",
      "provenance": [],
      "authorship_tag": "ABX9TyNVsbqvf4OJAH6/akKKBCF2",
      "include_colab_link": true
    },
    "kernelspec": {
      "name": "python3",
      "display_name": "Python 3"
    },
    "language_info": {
      "name": "python"
    }
  },
  "cells": [
    {
      "cell_type": "markdown",
      "metadata": {
        "id": "view-in-github",
        "colab_type": "text"
      },
      "source": [
        "<a href=\"https://colab.research.google.com/github/xodsl/class2022Spring/blob/main/20220328.ipynb\" target=\"_parent\"><img src=\"https://colab.research.google.com/assets/colab-badge.svg\" alt=\"Open In Colab\"/></a>"
      ]
    },
    {
      "cell_type": "code",
      "execution_count": 1,
      "metadata": {
        "colab": {
          "base_uri": "https://localhost:8080/"
        },
        "id": "RyHJe5mTLe0O",
        "outputId": "13ba46cd-0cb3-4e0a-be14-ea5d68115365"
      },
      "outputs": [
        {
          "output_type": "stream",
          "name": "stdout",
          "text": [
            "Collecting gradio\n",
            "  Downloading gradio-2.9.1-py3-none-any.whl (1.7 MB)\n",
            "\u001b[K     |████████████████████████████████| 1.7 MB 5.3 MB/s \n",
            "\u001b[?25hCollecting uvicorn\n",
            "  Downloading uvicorn-0.17.6-py3-none-any.whl (53 kB)\n",
            "\u001b[K     |████████████████████████████████| 53 kB 1.6 MB/s \n",
            "\u001b[?25hCollecting paramiko\n",
            "  Downloading paramiko-2.10.3-py2.py3-none-any.whl (211 kB)\n",
            "\u001b[K     |████████████████████████████████| 211 kB 47.4 MB/s \n",
            "\u001b[?25hCollecting analytics-python\n",
            "  Downloading analytics_python-1.4.0-py2.py3-none-any.whl (15 kB)\n",
            "Collecting fastapi\n",
            "  Downloading fastapi-0.75.1-py3-none-any.whl (54 kB)\n",
            "\u001b[K     |████████████████████████████████| 54 kB 2.5 MB/s \n",
            "\u001b[?25hCollecting pydub\n",
            "  Downloading pydub-0.25.1-py2.py3-none-any.whl (32 kB)\n",
            "Requirement already satisfied: pandas in /usr/local/lib/python3.7/dist-packages (from gradio) (1.3.5)\n",
            "Requirement already satisfied: numpy in /usr/local/lib/python3.7/dist-packages (from gradio) (1.21.5)\n",
            "Collecting markdown-it-py[linkify,plugins]\n",
            "  Downloading markdown_it_py-2.0.1-py3-none-any.whl (84 kB)\n",
            "\u001b[K     |████████████████████████████████| 84 kB 2.4 MB/s \n",
            "\u001b[?25hRequirement already satisfied: pillow in /usr/local/lib/python3.7/dist-packages (from gradio) (7.1.2)\n",
            "Collecting python-multipart\n",
            "  Downloading python-multipart-0.0.5.tar.gz (32 kB)\n",
            "Collecting aiohttp\n",
            "  Downloading aiohttp-3.8.1-cp37-cp37m-manylinux_2_5_x86_64.manylinux1_x86_64.manylinux_2_12_x86_64.manylinux2010_x86_64.whl (1.1 MB)\n",
            "\u001b[K     |████████████████████████████████| 1.1 MB 38.4 MB/s \n",
            "\u001b[?25hCollecting orjson\n",
            "  Downloading orjson-3.6.7-cp37-cp37m-manylinux_2_24_x86_64.whl (255 kB)\n",
            "\u001b[K     |████████████████████████████████| 255 kB 41.2 MB/s \n",
            "\u001b[?25hRequirement already satisfied: requests in /usr/local/lib/python3.7/dist-packages (from gradio) (2.23.0)\n",
            "Collecting ffmpy\n",
            "  Downloading ffmpy-0.3.0.tar.gz (4.8 kB)\n",
            "Collecting pycryptodome\n",
            "  Downloading pycryptodome-3.14.1-cp35-abi3-manylinux2010_x86_64.whl (2.0 MB)\n",
            "\u001b[K     |████████████████████████████████| 2.0 MB 45.1 MB/s \n",
            "\u001b[?25hRequirement already satisfied: matplotlib in /usr/local/lib/python3.7/dist-packages (from gradio) (3.2.2)\n",
            "Collecting async-timeout<5.0,>=4.0.0a3\n",
            "  Downloading async_timeout-4.0.2-py3-none-any.whl (5.8 kB)\n",
            "Requirement already satisfied: typing-extensions>=3.7.4 in /usr/local/lib/python3.7/dist-packages (from aiohttp->gradio) (3.10.0.2)\n",
            "Collecting aiosignal>=1.1.2\n",
            "  Downloading aiosignal-1.2.0-py3-none-any.whl (8.2 kB)\n",
            "Collecting frozenlist>=1.1.1\n",
            "  Downloading frozenlist-1.3.0-cp37-cp37m-manylinux_2_5_x86_64.manylinux1_x86_64.manylinux_2_17_x86_64.manylinux2014_x86_64.whl (144 kB)\n",
            "\u001b[K     |████████████████████████████████| 144 kB 51.8 MB/s \n",
            "\u001b[?25hCollecting asynctest==0.13.0\n",
            "  Downloading asynctest-0.13.0-py3-none-any.whl (26 kB)\n",
            "Requirement already satisfied: charset-normalizer<3.0,>=2.0 in /usr/local/lib/python3.7/dist-packages (from aiohttp->gradio) (2.0.12)\n",
            "Collecting yarl<2.0,>=1.0\n",
            "  Downloading yarl-1.7.2-cp37-cp37m-manylinux_2_5_x86_64.manylinux1_x86_64.manylinux_2_12_x86_64.manylinux2010_x86_64.whl (271 kB)\n",
            "\u001b[K     |████████████████████████████████| 271 kB 44.3 MB/s \n",
            "\u001b[?25hCollecting multidict<7.0,>=4.5\n",
            "  Downloading multidict-6.0.2-cp37-cp37m-manylinux_2_17_x86_64.manylinux2014_x86_64.whl (94 kB)\n",
            "\u001b[K     |████████████████████████████████| 94 kB 3.6 MB/s \n",
            "\u001b[?25hRequirement already satisfied: attrs>=17.3.0 in /usr/local/lib/python3.7/dist-packages (from aiohttp->gradio) (21.4.0)\n",
            "Requirement already satisfied: idna>=2.0 in /usr/local/lib/python3.7/dist-packages (from yarl<2.0,>=1.0->aiohttp->gradio) (2.10)\n",
            "Collecting monotonic>=1.5\n",
            "  Downloading monotonic-1.6-py2.py3-none-any.whl (8.2 kB)\n",
            "Collecting backoff==1.10.0\n",
            "  Downloading backoff-1.10.0-py2.py3-none-any.whl (31 kB)\n",
            "Requirement already satisfied: six>=1.5 in /usr/local/lib/python3.7/dist-packages (from analytics-python->gradio) (1.15.0)\n",
            "Requirement already satisfied: python-dateutil>2.1 in /usr/local/lib/python3.7/dist-packages (from analytics-python->gradio) (2.8.2)\n",
            "Requirement already satisfied: urllib3!=1.25.0,!=1.25.1,<1.26,>=1.21.1 in /usr/local/lib/python3.7/dist-packages (from requests->gradio) (1.24.3)\n",
            "Requirement already satisfied: certifi>=2017.4.17 in /usr/local/lib/python3.7/dist-packages (from requests->gradio) (2021.10.8)\n",
            "Requirement already satisfied: chardet<4,>=3.0.2 in /usr/local/lib/python3.7/dist-packages (from requests->gradio) (3.0.4)\n",
            "Collecting starlette==0.17.1\n",
            "  Downloading starlette-0.17.1-py3-none-any.whl (58 kB)\n",
            "\u001b[K     |████████████████████████████████| 58 kB 6.1 MB/s \n",
            "\u001b[?25hCollecting pydantic!=1.7,!=1.7.1,!=1.7.2,!=1.7.3,!=1.8,!=1.8.1,<2.0.0,>=1.6.2\n",
            "  Downloading pydantic-1.9.0-cp37-cp37m-manylinux_2_17_x86_64.manylinux2014_x86_64.whl (10.9 MB)\n",
            "\u001b[K     |████████████████████████████████| 10.9 MB 40.8 MB/s \n",
            "\u001b[?25hCollecting anyio<4,>=3.0.0\n",
            "  Downloading anyio-3.5.0-py3-none-any.whl (79 kB)\n",
            "\u001b[K     |████████████████████████████████| 79 kB 7.3 MB/s \n",
            "\u001b[?25hCollecting sniffio>=1.1\n",
            "  Downloading sniffio-1.2.0-py3-none-any.whl (10 kB)\n",
            "Collecting mdurl~=0.1\n",
            "  Downloading mdurl-0.1.0-py3-none-any.whl (11 kB)\n",
            "Collecting mdit-py-plugins\n",
            "  Downloading mdit_py_plugins-0.3.0-py3-none-any.whl (43 kB)\n",
            "\u001b[K     |████████████████████████████████| 43 kB 1.5 MB/s \n",
            "\u001b[?25hCollecting linkify-it-py~=1.0\n",
            "  Downloading linkify_it_py-1.0.3-py3-none-any.whl (19 kB)\n",
            "Collecting uc-micro-py\n",
            "  Downloading uc_micro_py-1.0.1-py3-none-any.whl (6.2 kB)\n",
            "Requirement already satisfied: kiwisolver>=1.0.1 in /usr/local/lib/python3.7/dist-packages (from matplotlib->gradio) (1.4.0)\n",
            "Requirement already satisfied: cycler>=0.10 in /usr/local/lib/python3.7/dist-packages (from matplotlib->gradio) (0.11.0)\n",
            "Requirement already satisfied: pyparsing!=2.0.4,!=2.1.2,!=2.1.6,>=2.0.1 in /usr/local/lib/python3.7/dist-packages (from matplotlib->gradio) (3.0.7)\n",
            "Requirement already satisfied: pytz>=2017.3 in /usr/local/lib/python3.7/dist-packages (from pandas->gradio) (2018.9)\n",
            "Collecting cryptography>=2.5\n",
            "  Downloading cryptography-36.0.2-cp36-abi3-manylinux_2_24_x86_64.whl (3.6 MB)\n",
            "\u001b[K     |████████████████████████████████| 3.6 MB 29.3 MB/s \n",
            "\u001b[?25hCollecting pynacl>=1.0.1\n",
            "  Downloading PyNaCl-1.5.0-cp36-abi3-manylinux_2_17_x86_64.manylinux2014_x86_64.manylinux_2_24_x86_64.whl (856 kB)\n",
            "\u001b[K     |████████████████████████████████| 856 kB 53.1 MB/s \n",
            "\u001b[?25hCollecting bcrypt>=3.1.3\n",
            "  Downloading bcrypt-3.2.0-cp36-abi3-manylinux_2_17_x86_64.manylinux2014_x86_64.manylinux_2_24_x86_64.whl (61 kB)\n",
            "\u001b[K     |████████████████████████████████| 61 kB 433 kB/s \n",
            "\u001b[?25hRequirement already satisfied: cffi>=1.1 in /usr/local/lib/python3.7/dist-packages (from bcrypt>=3.1.3->paramiko->gradio) (1.15.0)\n",
            "Requirement already satisfied: pycparser in /usr/local/lib/python3.7/dist-packages (from cffi>=1.1->bcrypt>=3.1.3->paramiko->gradio) (2.21)\n",
            "Collecting asgiref>=3.4.0\n",
            "  Downloading asgiref-3.5.0-py3-none-any.whl (22 kB)\n",
            "Requirement already satisfied: click>=7.0 in /usr/local/lib/python3.7/dist-packages (from uvicorn->gradio) (7.1.2)\n",
            "Collecting h11>=0.8\n",
            "  Downloading h11-0.13.0-py3-none-any.whl (58 kB)\n",
            "\u001b[K     |████████████████████████████████| 58 kB 5.0 MB/s \n",
            "\u001b[?25hBuilding wheels for collected packages: ffmpy, python-multipart\n",
            "  Building wheel for ffmpy (setup.py) ... \u001b[?25l\u001b[?25hdone\n",
            "  Created wheel for ffmpy: filename=ffmpy-0.3.0-py3-none-any.whl size=4712 sha256=7c2c832e87c096c061580158904f54a4bd1343372d53232dde9fc6bbc874e10b\n",
            "  Stored in directory: /root/.cache/pip/wheels/13/e4/6c/e8059816e86796a597c6e6b0d4c880630f51a1fcfa0befd5e6\n",
            "  Building wheel for python-multipart (setup.py) ... \u001b[?25l\u001b[?25hdone\n",
            "  Created wheel for python-multipart: filename=python_multipart-0.0.5-py3-none-any.whl size=31678 sha256=c09ffa2531784f4ae806f71f231b24bffd9bf380a6cc5b14b7707aaf3f78cc13\n",
            "  Stored in directory: /root/.cache/pip/wheels/2c/41/7c/bfd1c180534ffdcc0972f78c5758f89881602175d48a8bcd2c\n",
            "Successfully built ffmpy python-multipart\n",
            "Installing collected packages: sniffio, mdurl, uc-micro-py, multidict, markdown-it-py, frozenlist, anyio, yarl, starlette, pynacl, pydantic, monotonic, mdit-py-plugins, linkify-it-py, h11, cryptography, bcrypt, backoff, asynctest, async-timeout, asgiref, aiosignal, uvicorn, python-multipart, pydub, pycryptodome, paramiko, orjson, ffmpy, fastapi, analytics-python, aiohttp, gradio\n",
            "Successfully installed aiohttp-3.8.1 aiosignal-1.2.0 analytics-python-1.4.0 anyio-3.5.0 asgiref-3.5.0 async-timeout-4.0.2 asynctest-0.13.0 backoff-1.10.0 bcrypt-3.2.0 cryptography-36.0.2 fastapi-0.75.1 ffmpy-0.3.0 frozenlist-1.3.0 gradio-2.9.1 h11-0.13.0 linkify-it-py-1.0.3 markdown-it-py-2.0.1 mdit-py-plugins-0.3.0 mdurl-0.1.0 monotonic-1.6 multidict-6.0.2 orjson-3.6.7 paramiko-2.10.3 pycryptodome-3.14.1 pydantic-1.9.0 pydub-0.25.1 pynacl-1.5.0 python-multipart-0.0.5 sniffio-1.2.0 starlette-0.17.1 uc-micro-py-1.0.1 uvicorn-0.17.6 yarl-1.7.2\n"
          ]
        }
      ],
      "source": [
        "!pip install gradio\n",
        "import gradio as gr\n",
        "import requests\n",
        "import pandas as pd"
      ]
    },
    {
      "cell_type": "code",
      "source": [
        "URL = ('http://apis.data.go.kr/1383000/nwis/newWorkCenterService/'\n",
        "      'getNewWorkCenterList?'\n",
        "      'serviceKey=NmjA7%2BuroLiNPNN0OeEgBY%2B3W0NlWBHo6Fv1aiGis1kw5mfw%2B5tiOxwEhFtzq9nB0zfctXOv4VpXz94sHniTAQ%3D%3D'\n",
        "      '&ctpvNm=강원'\n",
        "      '&pageNo=1'\n",
        "      '&numOfRows=10'\n",
        "      '&type=json')\n",
        "response = requests.get(URL)"
      ],
      "metadata": {
        "id": "fpCG0Gl3Lksl"
      },
      "execution_count": 2,
      "outputs": []
    },
    {
      "cell_type": "code",
      "source": [
        "r = response.json()\n",
        "r"
      ],
      "metadata": {
        "colab": {
          "base_uri": "https://localhost:8080/"
        },
        "id": "4TbDOKaHLlgk",
        "outputId": "0bd69d40-b71c-46e9-9885-adff4899a2dc"
      },
      "execution_count": 3,
      "outputs": [
        {
          "output_type": "execute_result",
          "data": {
            "text/plain": [
              "{'response': {'body': {'items': {'item': [{'ctpvNm': '강원',\n",
              "      'daddr': '강원도 강릉시 강릉대로 317, 한국빌딩 3층 (포남동) ',\n",
              "      'dataCrtrYmd': '20220404',\n",
              "      'nwrkCntrNm': '강릉새일센터',\n",
              "      'ogdporInstNm': '강릉여성인력개발센터',\n",
              "      'sggNm': '강릉시',\n",
              "      'telno': '033-643-1148',\n",
              "      'zip': '25492'},\n",
              "     {'ctpvNm': '강원',\n",
              "      'daddr': '강원도 동해시 발한로 182,  (발한동) ',\n",
              "      'dataCrtrYmd': '20220404',\n",
              "      'nwrkCntrNm': '동해새일센터',\n",
              "      'ogdporInstNm': '동해YWCA',\n",
              "      'sggNm': '동해시',\n",
              "      'telno': '033-533-6077',\n",
              "      'zip': '25740'},\n",
              "     {'ctpvNm': '강원',\n",
              "      'daddr': '강원도 삼척시 청석로 3길 16-41 ',\n",
              "      'dataCrtrYmd': '20220404',\n",
              "      'nwrkCntrNm': '삼척새일센터',\n",
              "      'ogdporInstNm': '삼척시 평생학습관',\n",
              "      'sggNm': '삼척시',\n",
              "      'telno': '033-570-4081',\n",
              "      'zip': '25924'},\n",
              "     {'ctpvNm': '강원',\n",
              "      'daddr': '강원도 속초시 수복로 46번 속초시 평생교육문화센터 (교동 979)',\n",
              "      'dataCrtrYmd': '20220404',\n",
              "      'nwrkCntrNm': '속초새일센터',\n",
              "      'ogdporInstNm': '속초시 평생교육문화센터',\n",
              "      'sggNm': '속초시',\n",
              "      'telno': '033-639-2742',\n",
              "      'zip': '24855'},\n",
              "     {'ctpvNm': '강원',\n",
              "      'daddr': '강원도 양양군 양양읍 안산1길 36 ',\n",
              "      'dataCrtrYmd': '20220404',\n",
              "      'nwrkCntrNm': '양양새일센터(농어촌형)',\n",
              "      'ogdporInstNm': '양양군 교육가족과(여성회관)',\n",
              "      'sggNm': '양양군',\n",
              "      'telno': '033-670-2357',\n",
              "      'zip': '25032'},\n",
              "     {'ctpvNm': '강원',\n",
              "      'daddr': '강원도 영월군 영월읍 단종로 8, 영월고용복지+센터 ',\n",
              "      'dataCrtrYmd': '20220404',\n",
              "      'nwrkCntrNm': '영월새일센터(농어촌형)',\n",
              "      'ogdporInstNm': '영월군 여성가족과 여성정책팀 영월여성새로일하기센터',\n",
              "      'sggNm': '영월군',\n",
              "      'telno': '033-370-1333',\n",
              "      'zip': '26232'},\n",
              "     {'ctpvNm': '강원',\n",
              "      'daddr': '강원도 원주시 서원대로 서원대로383 2층 고용복지플러스센터',\n",
              "      'dataCrtrYmd': '20220404',\n",
              "      'nwrkCntrNm': '원주새일센터',\n",
              "      'ogdporInstNm': '원주여성새로일하기센터',\n",
              "      'sggNm': '원주시',\n",
              "      'telno': '033-748-3131',\n",
              "      'zip': '26448'},\n",
              "     {'ctpvNm': '강원',\n",
              "      'daddr': '강원도 정선군 정선읍 애산로 25  지번 : 애산리 605-13',\n",
              "      'dataCrtrYmd': '20220404',\n",
              "      'nwrkCntrNm': '정선새일센터(농어촌형)',\n",
              "      'ogdporInstNm': '정선군 여성회관',\n",
              "      'sggNm': '정선군',\n",
              "      'telno': '033-560-2319',\n",
              "      'zip': '26125'},\n",
              "     {'ctpvNm': '강원',\n",
              "      'daddr': '강원도 춘천시 금강로 45 (요선동) 기업은행빌딩 4층',\n",
              "      'dataCrtrYmd': '20220404',\n",
              "      'nwrkCntrNm': '강원광역새일센터',\n",
              "      'ogdporInstNm': '강원광역여성새로일하기센터',\n",
              "      'sggNm': '춘천시',\n",
              "      'telno': '033-256-9225',\n",
              "      'zip': '24272'},\n",
              "     {'ctpvNm': '강원',\n",
              "      'daddr': '강원도 춘천시 외솔길 25,  (석사동 111-6) ',\n",
              "      'dataCrtrYmd': '20220404',\n",
              "      'nwrkCntrNm': '춘천새일센터',\n",
              "      'ogdporInstNm': '춘천여성인력개발센터',\n",
              "      'sggNm': '춘천시',\n",
              "      'telno': '033-243-6474',\n",
              "      'zip': '24417'}]},\n",
              "   'numOfRows': 10,\n",
              "   'pageNo': 1,\n",
              "   'resultType': 'json',\n",
              "   'totalCount': 10},\n",
              "  'header': {'resultCode': '0', 'resultMsg': 'NORMAL SERVICE'}}}"
            ]
          },
          "metadata": {},
          "execution_count": 3
        }
      ]
    },
    {
      "cell_type": "code",
      "source": [
        "items = r['response']['body']['items']['item']\n",
        "\n",
        "sggNm = [item['sggNm'] for item in items]\n",
        "daddr = [item['daddr'] for item in items]\n",
        "nwrkCntrNm = [item['nwrkCntrNm'] for item in items]\n",
        "ogdporInstNm = [item['ogdporInstNm'] for item in items]\n",
        "\n",
        "sggNm = pd.Series(sggNm)\n",
        "daddr = pd.Series(daddr)\n",
        "nwrkCntrNm = pd.Series(nwrkCntrNm)   \n",
        "ogdporInstNm = pd.Series(ogdporInstNm)\n",
        "\n",
        "df = pd.DataFrame({'sggNm' : sggNm, 'daddr' : daddr, 'nwrkCntrNm': nwrkCntrNm, 'ogdporInstNm': ogdporInstNm})"
      ],
      "metadata": {
        "id": "5LVwQNvCLoMP"
      },
      "execution_count": 4,
      "outputs": []
    },
    {
      "cell_type": "code",
      "source": [
        "def test(ctpvNm):\n",
        "  URL = ('http://apis.data.go.kr/1383000/nwis/newWorkCenterService/'\n",
        "        'getNewWorkCenterList?'\n",
        "        'serviceKey=NmjA7%2BuroLiNPNN0OeEgBY%2B3W0NlWBHo6Fv1aiGis1kw5mfw%2B5tiOxwEhFtzq9nB0zfctXOv4VpXz94sHniTAQ%3D%3D'\n",
        "        '&ctpvNm='+ctpvNm+''\n",
        "        '&pageNo=1&numOfRows=10&type=json')\n",
        "  \n",
        "  response = requests.get(URL)\n",
        "  r = response.json()\n",
        "  items = r['response']['body']['items']['item']\n",
        "\n",
        "  sggNm = [item['sggNm'] for item in items]\n",
        "  daddr = [item['daddr'] for item in items]\n",
        "  nwrkCntrNm = [item['nwrkCntrNm'] for item in items]\n",
        "  ogdporInstNm = [item['ogdporInstNm'] for item in items]\n",
        "\n",
        "  sggNm = pd.Series(sggNm)\n",
        "  daddr = pd.Series(daddr)\n",
        "  nwrkCntrNm = pd.Series(nwrkCntrNm)   \n",
        "  ogdporInstNm = pd.Series(ogdporInstNm)\n",
        "\n",
        "  df = pd.DataFrame({'sggNm' : sggNm, 'daddr' : daddr, 'nwrkCntrNm': nwrkCntrNm, 'ogdporInstNm': ogdporInstNm})\n",
        "  return df"
      ],
      "metadata": {
        "id": "b-sPS-yRLv9d"
      },
      "execution_count": 5,
      "outputs": []
    },
    {
      "cell_type": "code",
      "source": [
        "iface = gr.Interface(test, gr.inputs.Dropdown(['강원', '경기', '충북', '충남', '전북', '전남', '경북', '경남']), outputs=['dataframe'])\n",
        "iface.launch(debug=True)"
      ],
      "metadata": {
        "colab": {
          "base_uri": "https://localhost:8080/",
          "height": 595
        },
        "id": "8bl1Tu44L5RE",
        "outputId": "2b3bd283-58f2-4443-c562-677d3682d075"
      },
      "execution_count": null,
      "outputs": [
        {
          "output_type": "stream",
          "name": "stdout",
          "text": [
            "Colab notebook detected. This cell will run indefinitely so that you can see errors and logs. To turn off, set debug=False in launch().\n",
            "Running on public URL: https://10566.gradio.app\n",
            "\n",
            "This share link expires in 72 hours. For free permanent hosting, check out Spaces (https://huggingface.co/spaces)\n"
          ]
        },
        {
          "output_type": "display_data",
          "data": {
            "text/plain": [
              "<IPython.lib.display.IFrame at 0x7f5121be2190>"
            ],
            "text/html": [
              "\n",
              "        <iframe\n",
              "            width=\"900\"\n",
              "            height=\"500\"\n",
              "            src=\"https://10566.gradio.app\"\n",
              "            frameborder=\"0\"\n",
              "            allowfullscreen\n",
              "        ></iframe>\n",
              "        "
            ]
          },
          "metadata": {}
        }
      ]
    }
  ]
}